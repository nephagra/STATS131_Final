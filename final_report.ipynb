{
 "cells": [
  {
   "cell_type": "markdown",
   "metadata": {},
   "source": [
    "# Stats 131 Final Project"
   ]
  },
  {
   "cell_type": "markdown",
   "metadata": {},
   "source": [
    "## Kyra Edwards, Nephele Agrafiotis, Jason Beznos"
   ]
  },
  {
   "cell_type": "markdown",
   "metadata": {},
   "source": [
    "# Background"
   ]
  },
  {
   "cell_type": "markdown",
   "metadata": {},
   "source": [
    "Uber is an increasingly popular ride-share app used in many large US cities, including New York City. Riders request a pick-up in the form of pool (where other rides can be picked up and dropped off on the way), X (a private 4-person car), or XL (a private 6 or 7-person car). Common reasons people use Uber are lack of public transportation (common in LA), lack of private transportation (common in NYC), avoiding drunk driving, lack of parking at destination, cost efficiency, and going to the airport, among many other reasons."
   ]
  },
  {
   "cell_type": "markdown",
   "metadata": {},
   "source": [
    "### Uber Dataset"
   ]
  },
  {
   "cell_type": "markdown",
   "metadata": {},
   "source": [
    "This specific data set from Yannis Pappas found on Kaggle is called \"NYC Uber Pickups with Weather and Holidays\". Yannis Pappas took a subset of the data from FiveThirtyEight's \"Uber Pickups in New York City\" that originally had from 20 million ride-shares. He combined it with weather data from the National Centers for Environmental Information and NYC Public Holidays.\n",
    "\n",
    "The purpose of the data set was to show trends in uber pickups with different weather and holiday variables.\n",
    "\n",
    "The data covers each day of January through June in 2015 and groups pickups by the hour and borough they are called in. For example, the first line is January 1st, 2015 from midnight to 1 am in the Bronx. The rest of the variables in the first row are based on this date, time, and place."
   ]
  },
  {
   "cell_type": "markdown",
   "metadata": {},
   "source": [
    "### Variables"
   ]
  },
  {
   "cell_type": "markdown",
   "metadata": {},
   "source": [
    "    *pickup_dt*: Pick-up date & time\n",
    "    Pandas datetime object\n",
    "    The date and hour that the group of pick-ups occured, pre-grouped by hour\n",
    "    Units: time (MM/DD/YYYY HH:MM)\n",
    "\n",
    "    *borough*: NYC Borough\n",
    "    Categorical\n",
    "    New York City is split into 5 boroughs, but this variables also includes Newark Airport\n",
    "    Categories: Bronx, Brooklyn, Manhattan, Queens, Staten Island, EWR\n",
    "\n",
    "    *pickups*: Number of Pick-ups\n",
    "    Integer (int64)\n",
    "    The number of Uber pick-ups in the specified borough and the pickup_dt, pre-grouped by hour\n",
    "    Units: none\n",
    "\n",
    "    *windspeed*: Windspeed\n",
    "    Numeric (float64)\n",
    "    The average windspeed in the specified borough at that hour\n",
    "    Units: miles/hour\n",
    "\n",
    "    *visibility*: Visibility\n",
    "    Numeric (float64)\n",
    "    Visibility in miles rounded to the nearest tenth - \"the distance one can see as determined by light and weather conditions\"\n",
    "    Units: miles\n",
    "\n",
    "    *temp*: Temperature\n",
    "    Numeric (float64)\n",
    "    The temperature outside\n",
    "    Units: degrees Fahrenheit\n",
    "\n",
    "    *dewpoint*: Dew Point\n",
    "    Numeric (float64)\n",
    "    Dew point temperature - \"the atmospheric temperature (varying according to pressure and humidity) below which water droplets begin to condense and dew can form\"\n",
    "    Units: degrees Fahrenheit\n",
    "\n",
    "    *slpressure*: Sea Level Pressure\n",
    "    Numeric (float64)\n",
    "    The average atmospheric pressure at sea level\n",
    "    Units: mbar\n",
    "\n",
    "    *pcp01*: 1-hour liquid precipitation\n",
    "    Numeric (float64)\n",
    "    Amount of rainfall in the past 1 hour\n",
    "    Units: inches\n",
    "\n",
    "    *pcp06*: 6-hour liquid precipitation\n",
    "    Numeric (float64)\n",
    "    Amount of rainfall in the past 6 hours\n",
    "    Units: inches\n",
    "    \n",
    "    *pcp24*: 24-hour liquid precipitation\n",
    "    Numeric (float64)\n",
    "    Amount of rainfall in the past 24 hours\n",
    "    Units: inches\n",
    "    \n",
    "    *snow*: Snow\n",
    "    Numeric (float64)\n",
    "    Amount of snow fall depth in inches\n",
    "    Units: inches\n",
    "    \n",
    "    *holiday*: Holiday\n",
    "    Categorical\n",
    "    Whether the specified day in pickup_dt is a holiday or not, uses yes/no response\n",
    "    Categories: Y, N"
   ]
  },
  {
   "cell_type": "markdown",
   "metadata": {},
   "source": [
    "### Pre-Analysis Thoughts"
   ]
  },
  {
   "cell_type": "markdown",
   "metadata": {},
   "source": [
    "Based on our personal experiences with Uber, an app our group and many other college students frequently use, we believe that worse weather will correlate with an increase in pickups. We also believe that there will be less pickups on holidays than non-holidays.\n",
    "\n",
    "The reasoning behind these beliefs is that in a city, walking is fairly common due to the density and proximity of stores, work, and other necessities. When it is raining, snowing, or otherwise bad weater, it makes sense to Uber instead of walking in bad weather. Temperature will most likely not show a difference in pick-ups, but we believe that windspeed, precipitation, and snow will.\n",
    "\n",
    "We believe there will be less pickups on holidays because people usually stay home on the holidays. Masses of people travel on the days right before and right after holidays but generally not on actual holidays. This is why we believe there will be less pickups on those days."
   ]
  },
  {
   "cell_type": "markdown",
   "metadata": {},
   "source": [
    "# Exploratory Analysis of the Data"
   ]
  },
  {
   "cell_type": "code",
   "execution_count": 1,
   "metadata": {},
   "outputs": [],
   "source": [
    "import pandas as pd\n",
    "import numpy as np\n",
    "import matplotlib.pyplot as plt\n",
    "import seaborn as sns"
   ]
  },
  {
   "cell_type": "code",
   "execution_count": 2,
   "metadata": {},
   "outputs": [],
   "source": [
    "uber = pd.read_csv('uber_nyc_enriched.csv')"
   ]
  },
  {
   "cell_type": "code",
   "execution_count": 3,
   "metadata": {},
   "outputs": [
    {
     "data": {
      "text/html": [
       "<div>\n",
       "<style scoped>\n",
       "    .dataframe tbody tr th:only-of-type {\n",
       "        vertical-align: middle;\n",
       "    }\n",
       "\n",
       "    .dataframe tbody tr th {\n",
       "        vertical-align: top;\n",
       "    }\n",
       "\n",
       "    .dataframe thead th {\n",
       "        text-align: right;\n",
       "    }\n",
       "</style>\n",
       "<table border=\"1\" class=\"dataframe\">\n",
       "  <thead>\n",
       "    <tr style=\"text-align: right;\">\n",
       "      <th></th>\n",
       "      <th>pickup_dt</th>\n",
       "      <th>borough</th>\n",
       "      <th>pickups</th>\n",
       "      <th>spd</th>\n",
       "      <th>vsb</th>\n",
       "      <th>temp</th>\n",
       "      <th>dewp</th>\n",
       "      <th>slp</th>\n",
       "      <th>pcp01</th>\n",
       "      <th>pcp06</th>\n",
       "      <th>pcp24</th>\n",
       "      <th>sd</th>\n",
       "      <th>hday</th>\n",
       "    </tr>\n",
       "  </thead>\n",
       "  <tbody>\n",
       "    <tr>\n",
       "      <th>0</th>\n",
       "      <td>2015-01-01 01:00:00</td>\n",
       "      <td>Bronx</td>\n",
       "      <td>152</td>\n",
       "      <td>5.0</td>\n",
       "      <td>10.0</td>\n",
       "      <td>30.0</td>\n",
       "      <td>7.0</td>\n",
       "      <td>1023.5</td>\n",
       "      <td>0.0</td>\n",
       "      <td>0.0</td>\n",
       "      <td>0.0</td>\n",
       "      <td>0.0</td>\n",
       "      <td>Y</td>\n",
       "    </tr>\n",
       "    <tr>\n",
       "      <th>1</th>\n",
       "      <td>2015-01-01 01:00:00</td>\n",
       "      <td>Brooklyn</td>\n",
       "      <td>1519</td>\n",
       "      <td>5.0</td>\n",
       "      <td>10.0</td>\n",
       "      <td>30.0</td>\n",
       "      <td>7.0</td>\n",
       "      <td>1023.5</td>\n",
       "      <td>0.0</td>\n",
       "      <td>0.0</td>\n",
       "      <td>0.0</td>\n",
       "      <td>0.0</td>\n",
       "      <td>Y</td>\n",
       "    </tr>\n",
       "    <tr>\n",
       "      <th>2</th>\n",
       "      <td>2015-01-01 01:00:00</td>\n",
       "      <td>EWR</td>\n",
       "      <td>0</td>\n",
       "      <td>5.0</td>\n",
       "      <td>10.0</td>\n",
       "      <td>30.0</td>\n",
       "      <td>7.0</td>\n",
       "      <td>1023.5</td>\n",
       "      <td>0.0</td>\n",
       "      <td>0.0</td>\n",
       "      <td>0.0</td>\n",
       "      <td>0.0</td>\n",
       "      <td>Y</td>\n",
       "    </tr>\n",
       "    <tr>\n",
       "      <th>3</th>\n",
       "      <td>2015-01-01 01:00:00</td>\n",
       "      <td>Manhattan</td>\n",
       "      <td>5258</td>\n",
       "      <td>5.0</td>\n",
       "      <td>10.0</td>\n",
       "      <td>30.0</td>\n",
       "      <td>7.0</td>\n",
       "      <td>1023.5</td>\n",
       "      <td>0.0</td>\n",
       "      <td>0.0</td>\n",
       "      <td>0.0</td>\n",
       "      <td>0.0</td>\n",
       "      <td>Y</td>\n",
       "    </tr>\n",
       "    <tr>\n",
       "      <th>4</th>\n",
       "      <td>2015-01-01 01:00:00</td>\n",
       "      <td>Queens</td>\n",
       "      <td>405</td>\n",
       "      <td>5.0</td>\n",
       "      <td>10.0</td>\n",
       "      <td>30.0</td>\n",
       "      <td>7.0</td>\n",
       "      <td>1023.5</td>\n",
       "      <td>0.0</td>\n",
       "      <td>0.0</td>\n",
       "      <td>0.0</td>\n",
       "      <td>0.0</td>\n",
       "      <td>Y</td>\n",
       "    </tr>\n",
       "  </tbody>\n",
       "</table>\n",
       "</div>"
      ],
      "text/plain": [
       "             pickup_dt    borough  pickups  spd   vsb  temp  dewp     slp  \\\n",
       "0  2015-01-01 01:00:00      Bronx      152  5.0  10.0  30.0   7.0  1023.5   \n",
       "1  2015-01-01 01:00:00   Brooklyn     1519  5.0  10.0  30.0   7.0  1023.5   \n",
       "2  2015-01-01 01:00:00        EWR        0  5.0  10.0  30.0   7.0  1023.5   \n",
       "3  2015-01-01 01:00:00  Manhattan     5258  5.0  10.0  30.0   7.0  1023.5   \n",
       "4  2015-01-01 01:00:00     Queens      405  5.0  10.0  30.0   7.0  1023.5   \n",
       "\n",
       "   pcp01  pcp06  pcp24   sd hday  \n",
       "0    0.0    0.0    0.0  0.0    Y  \n",
       "1    0.0    0.0    0.0  0.0    Y  \n",
       "2    0.0    0.0    0.0  0.0    Y  \n",
       "3    0.0    0.0    0.0  0.0    Y  \n",
       "4    0.0    0.0    0.0  0.0    Y  "
      ]
     },
     "execution_count": 3,
     "metadata": {},
     "output_type": "execute_result"
    }
   ],
   "source": [
    "uber.head(5)"
   ]
  },
  {
   "cell_type": "markdown",
   "metadata": {},
   "source": [
    "### Data Clean-Up"
   ]
  },
  {
   "cell_type": "code",
   "execution_count": 4,
   "metadata": {},
   "outputs": [],
   "source": [
    "# Changing the first column to a pandas datetime object\n",
    "uber.pickup_dt = pd.to_datetime(uber['pickup_dt'],format='%Y-%m-%d %H:%M')\n",
    "# uber.pickup_dt = pd.to_datetime(uber['pickup_dt'],format='%m/%d/%Y %H:%M')"
   ]
  },
  {
   "cell_type": "code",
   "execution_count": 5,
   "metadata": {},
   "outputs": [
    {
     "data": {
      "text/html": [
       "<div>\n",
       "<style scoped>\n",
       "    .dataframe tbody tr th:only-of-type {\n",
       "        vertical-align: middle;\n",
       "    }\n",
       "\n",
       "    .dataframe tbody tr th {\n",
       "        vertical-align: top;\n",
       "    }\n",
       "\n",
       "    .dataframe thead th {\n",
       "        text-align: right;\n",
       "    }\n",
       "</style>\n",
       "<table border=\"1\" class=\"dataframe\">\n",
       "  <thead>\n",
       "    <tr style=\"text-align: right;\">\n",
       "      <th></th>\n",
       "      <th>pickup_dt</th>\n",
       "      <th>borough</th>\n",
       "      <th>pickups</th>\n",
       "      <th>spd</th>\n",
       "      <th>vsb</th>\n",
       "      <th>temp</th>\n",
       "      <th>dewp</th>\n",
       "      <th>slp</th>\n",
       "      <th>pcp01</th>\n",
       "      <th>pcp06</th>\n",
       "      <th>pcp24</th>\n",
       "      <th>sd</th>\n",
       "      <th>hday</th>\n",
       "    </tr>\n",
       "  </thead>\n",
       "  <tbody>\n",
       "    <tr>\n",
       "      <th>0</th>\n",
       "      <td>2015-01-01 01:00:00</td>\n",
       "      <td>Bronx</td>\n",
       "      <td>152</td>\n",
       "      <td>5.0</td>\n",
       "      <td>10.0</td>\n",
       "      <td>30.0</td>\n",
       "      <td>7.0</td>\n",
       "      <td>1023.5</td>\n",
       "      <td>0.0</td>\n",
       "      <td>0.0</td>\n",
       "      <td>0.0</td>\n",
       "      <td>0.0</td>\n",
       "      <td>Y</td>\n",
       "    </tr>\n",
       "    <tr>\n",
       "      <th>1</th>\n",
       "      <td>2015-01-01 01:00:00</td>\n",
       "      <td>Brooklyn</td>\n",
       "      <td>1519</td>\n",
       "      <td>5.0</td>\n",
       "      <td>10.0</td>\n",
       "      <td>30.0</td>\n",
       "      <td>7.0</td>\n",
       "      <td>1023.5</td>\n",
       "      <td>0.0</td>\n",
       "      <td>0.0</td>\n",
       "      <td>0.0</td>\n",
       "      <td>0.0</td>\n",
       "      <td>Y</td>\n",
       "    </tr>\n",
       "    <tr>\n",
       "      <th>2</th>\n",
       "      <td>2015-01-01 01:00:00</td>\n",
       "      <td>EWR</td>\n",
       "      <td>0</td>\n",
       "      <td>5.0</td>\n",
       "      <td>10.0</td>\n",
       "      <td>30.0</td>\n",
       "      <td>7.0</td>\n",
       "      <td>1023.5</td>\n",
       "      <td>0.0</td>\n",
       "      <td>0.0</td>\n",
       "      <td>0.0</td>\n",
       "      <td>0.0</td>\n",
       "      <td>Y</td>\n",
       "    </tr>\n",
       "    <tr>\n",
       "      <th>3</th>\n",
       "      <td>2015-01-01 01:00:00</td>\n",
       "      <td>Manhattan</td>\n",
       "      <td>5258</td>\n",
       "      <td>5.0</td>\n",
       "      <td>10.0</td>\n",
       "      <td>30.0</td>\n",
       "      <td>7.0</td>\n",
       "      <td>1023.5</td>\n",
       "      <td>0.0</td>\n",
       "      <td>0.0</td>\n",
       "      <td>0.0</td>\n",
       "      <td>0.0</td>\n",
       "      <td>Y</td>\n",
       "    </tr>\n",
       "    <tr>\n",
       "      <th>4</th>\n",
       "      <td>2015-01-01 01:00:00</td>\n",
       "      <td>Queens</td>\n",
       "      <td>405</td>\n",
       "      <td>5.0</td>\n",
       "      <td>10.0</td>\n",
       "      <td>30.0</td>\n",
       "      <td>7.0</td>\n",
       "      <td>1023.5</td>\n",
       "      <td>0.0</td>\n",
       "      <td>0.0</td>\n",
       "      <td>0.0</td>\n",
       "      <td>0.0</td>\n",
       "      <td>Y</td>\n",
       "    </tr>\n",
       "  </tbody>\n",
       "</table>\n",
       "</div>"
      ],
      "text/plain": [
       "            pickup_dt    borough  pickups  spd   vsb  temp  dewp     slp  \\\n",
       "0 2015-01-01 01:00:00      Bronx      152  5.0  10.0  30.0   7.0  1023.5   \n",
       "1 2015-01-01 01:00:00   Brooklyn     1519  5.0  10.0  30.0   7.0  1023.5   \n",
       "2 2015-01-01 01:00:00        EWR        0  5.0  10.0  30.0   7.0  1023.5   \n",
       "3 2015-01-01 01:00:00  Manhattan     5258  5.0  10.0  30.0   7.0  1023.5   \n",
       "4 2015-01-01 01:00:00     Queens      405  5.0  10.0  30.0   7.0  1023.5   \n",
       "\n",
       "   pcp01  pcp06  pcp24   sd hday  \n",
       "0    0.0    0.0    0.0  0.0    Y  \n",
       "1    0.0    0.0    0.0  0.0    Y  \n",
       "2    0.0    0.0    0.0  0.0    Y  \n",
       "3    0.0    0.0    0.0  0.0    Y  \n",
       "4    0.0    0.0    0.0  0.0    Y  "
      ]
     },
     "execution_count": 5,
     "metadata": {},
     "output_type": "execute_result"
    }
   ],
   "source": [
    "uber.head(5)"
   ]
  },
  {
   "cell_type": "code",
   "execution_count": 6,
   "metadata": {},
   "outputs": [
    {
     "name": "stdout",
     "output_type": "stream",
     "text": [
      "<class 'pandas.core.frame.DataFrame'>\n",
      "RangeIndex: 29101 entries, 0 to 29100\n",
      "Data columns (total 13 columns):\n",
      "pickup_dt    29101 non-null datetime64[ns]\n",
      "borough      26058 non-null object\n",
      "pickups      29101 non-null int64\n",
      "spd          29101 non-null float64\n",
      "vsb          29101 non-null float64\n",
      "temp         29101 non-null float64\n",
      "dewp         29101 non-null float64\n",
      "slp          29101 non-null float64\n",
      "pcp01        29101 non-null float64\n",
      "pcp06        29101 non-null float64\n",
      "pcp24        29101 non-null float64\n",
      "sd           29101 non-null float64\n",
      "hday         29101 non-null object\n",
      "dtypes: datetime64[ns](1), float64(9), int64(1), object(2)\n",
      "memory usage: 2.9+ MB\n"
     ]
    }
   ],
   "source": [
    "uber.info()"
   ]
  },
  {
   "cell_type": "code",
   "execution_count": 7,
   "metadata": {},
   "outputs": [],
   "source": [
    "uber = uber.fillna(\"N/A\")"
   ]
  },
  {
   "cell_type": "code",
   "execution_count": 8,
   "metadata": {},
   "outputs": [
    {
     "data": {
      "text/html": [
       "<div>\n",
       "<style scoped>\n",
       "    .dataframe tbody tr th:only-of-type {\n",
       "        vertical-align: middle;\n",
       "    }\n",
       "\n",
       "    .dataframe tbody tr th {\n",
       "        vertical-align: top;\n",
       "    }\n",
       "\n",
       "    .dataframe thead th {\n",
       "        text-align: right;\n",
       "    }\n",
       "</style>\n",
       "<table border=\"1\" class=\"dataframe\">\n",
       "  <thead>\n",
       "    <tr style=\"text-align: right;\">\n",
       "      <th></th>\n",
       "      <th>pickup_dt</th>\n",
       "      <th>borough</th>\n",
       "      <th>pickups</th>\n",
       "      <th>spd</th>\n",
       "      <th>vsb</th>\n",
       "      <th>temp</th>\n",
       "      <th>dewp</th>\n",
       "      <th>slp</th>\n",
       "      <th>pcp01</th>\n",
       "      <th>pcp06</th>\n",
       "      <th>pcp24</th>\n",
       "      <th>sd</th>\n",
       "      <th>hday</th>\n",
       "    </tr>\n",
       "  </thead>\n",
       "  <tbody>\n",
       "    <tr>\n",
       "      <th>0</th>\n",
       "      <td>2015-01-01 01:00:00</td>\n",
       "      <td>Bronx</td>\n",
       "      <td>152</td>\n",
       "      <td>5.0</td>\n",
       "      <td>10.0</td>\n",
       "      <td>30.0</td>\n",
       "      <td>7.0</td>\n",
       "      <td>1023.5</td>\n",
       "      <td>0.0</td>\n",
       "      <td>0.0</td>\n",
       "      <td>0.0</td>\n",
       "      <td>0.0</td>\n",
       "      <td>Y</td>\n",
       "    </tr>\n",
       "    <tr>\n",
       "      <th>1</th>\n",
       "      <td>2015-01-01 01:00:00</td>\n",
       "      <td>Brooklyn</td>\n",
       "      <td>1519</td>\n",
       "      <td>5.0</td>\n",
       "      <td>10.0</td>\n",
       "      <td>30.0</td>\n",
       "      <td>7.0</td>\n",
       "      <td>1023.5</td>\n",
       "      <td>0.0</td>\n",
       "      <td>0.0</td>\n",
       "      <td>0.0</td>\n",
       "      <td>0.0</td>\n",
       "      <td>Y</td>\n",
       "    </tr>\n",
       "    <tr>\n",
       "      <th>2</th>\n",
       "      <td>2015-01-01 01:00:00</td>\n",
       "      <td>EWR</td>\n",
       "      <td>0</td>\n",
       "      <td>5.0</td>\n",
       "      <td>10.0</td>\n",
       "      <td>30.0</td>\n",
       "      <td>7.0</td>\n",
       "      <td>1023.5</td>\n",
       "      <td>0.0</td>\n",
       "      <td>0.0</td>\n",
       "      <td>0.0</td>\n",
       "      <td>0.0</td>\n",
       "      <td>Y</td>\n",
       "    </tr>\n",
       "    <tr>\n",
       "      <th>3</th>\n",
       "      <td>2015-01-01 01:00:00</td>\n",
       "      <td>Manhattan</td>\n",
       "      <td>5258</td>\n",
       "      <td>5.0</td>\n",
       "      <td>10.0</td>\n",
       "      <td>30.0</td>\n",
       "      <td>7.0</td>\n",
       "      <td>1023.5</td>\n",
       "      <td>0.0</td>\n",
       "      <td>0.0</td>\n",
       "      <td>0.0</td>\n",
       "      <td>0.0</td>\n",
       "      <td>Y</td>\n",
       "    </tr>\n",
       "    <tr>\n",
       "      <th>4</th>\n",
       "      <td>2015-01-01 01:00:00</td>\n",
       "      <td>Queens</td>\n",
       "      <td>405</td>\n",
       "      <td>5.0</td>\n",
       "      <td>10.0</td>\n",
       "      <td>30.0</td>\n",
       "      <td>7.0</td>\n",
       "      <td>1023.5</td>\n",
       "      <td>0.0</td>\n",
       "      <td>0.0</td>\n",
       "      <td>0.0</td>\n",
       "      <td>0.0</td>\n",
       "      <td>Y</td>\n",
       "    </tr>\n",
       "    <tr>\n",
       "      <th>5</th>\n",
       "      <td>2015-01-01 01:00:00</td>\n",
       "      <td>Staten Island</td>\n",
       "      <td>6</td>\n",
       "      <td>5.0</td>\n",
       "      <td>10.0</td>\n",
       "      <td>30.0</td>\n",
       "      <td>7.0</td>\n",
       "      <td>1023.5</td>\n",
       "      <td>0.0</td>\n",
       "      <td>0.0</td>\n",
       "      <td>0.0</td>\n",
       "      <td>0.0</td>\n",
       "      <td>Y</td>\n",
       "    </tr>\n",
       "    <tr>\n",
       "      <th>7</th>\n",
       "      <td>2015-01-01 02:00:00</td>\n",
       "      <td>Bronx</td>\n",
       "      <td>120</td>\n",
       "      <td>3.0</td>\n",
       "      <td>10.0</td>\n",
       "      <td>30.0</td>\n",
       "      <td>6.0</td>\n",
       "      <td>1023.0</td>\n",
       "      <td>0.0</td>\n",
       "      <td>0.0</td>\n",
       "      <td>0.0</td>\n",
       "      <td>0.0</td>\n",
       "      <td>Y</td>\n",
       "    </tr>\n",
       "    <tr>\n",
       "      <th>8</th>\n",
       "      <td>2015-01-01 02:00:00</td>\n",
       "      <td>Brooklyn</td>\n",
       "      <td>1229</td>\n",
       "      <td>3.0</td>\n",
       "      <td>10.0</td>\n",
       "      <td>30.0</td>\n",
       "      <td>6.0</td>\n",
       "      <td>1023.0</td>\n",
       "      <td>0.0</td>\n",
       "      <td>0.0</td>\n",
       "      <td>0.0</td>\n",
       "      <td>0.0</td>\n",
       "      <td>Y</td>\n",
       "    </tr>\n",
       "    <tr>\n",
       "      <th>9</th>\n",
       "      <td>2015-01-01 02:00:00</td>\n",
       "      <td>EWR</td>\n",
       "      <td>0</td>\n",
       "      <td>3.0</td>\n",
       "      <td>10.0</td>\n",
       "      <td>30.0</td>\n",
       "      <td>6.0</td>\n",
       "      <td>1023.0</td>\n",
       "      <td>0.0</td>\n",
       "      <td>0.0</td>\n",
       "      <td>0.0</td>\n",
       "      <td>0.0</td>\n",
       "      <td>Y</td>\n",
       "    </tr>\n",
       "    <tr>\n",
       "      <th>10</th>\n",
       "      <td>2015-01-01 02:00:00</td>\n",
       "      <td>Manhattan</td>\n",
       "      <td>4345</td>\n",
       "      <td>3.0</td>\n",
       "      <td>10.0</td>\n",
       "      <td>30.0</td>\n",
       "      <td>6.0</td>\n",
       "      <td>1023.0</td>\n",
       "      <td>0.0</td>\n",
       "      <td>0.0</td>\n",
       "      <td>0.0</td>\n",
       "      <td>0.0</td>\n",
       "      <td>Y</td>\n",
       "    </tr>\n",
       "  </tbody>\n",
       "</table>\n",
       "</div>"
      ],
      "text/plain": [
       "             pickup_dt        borough  pickups  spd   vsb  temp  dewp     slp  \\\n",
       "0  2015-01-01 01:00:00          Bronx      152  5.0  10.0  30.0   7.0  1023.5   \n",
       "1  2015-01-01 01:00:00       Brooklyn     1519  5.0  10.0  30.0   7.0  1023.5   \n",
       "2  2015-01-01 01:00:00            EWR        0  5.0  10.0  30.0   7.0  1023.5   \n",
       "3  2015-01-01 01:00:00      Manhattan     5258  5.0  10.0  30.0   7.0  1023.5   \n",
       "4  2015-01-01 01:00:00         Queens      405  5.0  10.0  30.0   7.0  1023.5   \n",
       "5  2015-01-01 01:00:00  Staten Island        6  5.0  10.0  30.0   7.0  1023.5   \n",
       "7  2015-01-01 02:00:00          Bronx      120  3.0  10.0  30.0   6.0  1023.0   \n",
       "8  2015-01-01 02:00:00       Brooklyn     1229  3.0  10.0  30.0   6.0  1023.0   \n",
       "9  2015-01-01 02:00:00            EWR        0  3.0  10.0  30.0   6.0  1023.0   \n",
       "10 2015-01-01 02:00:00      Manhattan     4345  3.0  10.0  30.0   6.0  1023.0   \n",
       "\n",
       "    pcp01  pcp06  pcp24   sd hday  \n",
       "0     0.0    0.0    0.0  0.0    Y  \n",
       "1     0.0    0.0    0.0  0.0    Y  \n",
       "2     0.0    0.0    0.0  0.0    Y  \n",
       "3     0.0    0.0    0.0  0.0    Y  \n",
       "4     0.0    0.0    0.0  0.0    Y  \n",
       "5     0.0    0.0    0.0  0.0    Y  \n",
       "7     0.0    0.0    0.0  0.0    Y  \n",
       "8     0.0    0.0    0.0  0.0    Y  \n",
       "9     0.0    0.0    0.0  0.0    Y  \n",
       "10    0.0    0.0    0.0  0.0    Y  "
      ]
     },
     "execution_count": 8,
     "metadata": {},
     "output_type": "execute_result"
    }
   ],
   "source": [
    "uber = uber[(uber['borough'] != \"N/A\")]\n",
    "\n",
    "uber.head(10)"
   ]
  },
  {
   "cell_type": "code",
   "execution_count": 9,
   "metadata": {},
   "outputs": [
    {
     "data": {
      "text/plain": [
       "pickup_dt    0\n",
       "borough      0\n",
       "pickups      0\n",
       "spd          0\n",
       "vsb          0\n",
       "temp         0\n",
       "dewp         0\n",
       "slp          0\n",
       "pcp01        0\n",
       "pcp06        0\n",
       "pcp24        0\n",
       "sd           0\n",
       "hday         0\n",
       "dtype: int64"
      ]
     },
     "execution_count": 9,
     "metadata": {},
     "output_type": "execute_result"
    }
   ],
   "source": [
    "np.sum(uber.isnull())"
   ]
  },
  {
   "cell_type": "markdown",
   "metadata": {},
   "source": [
    "Now the uber data has no missing values."
   ]
  },
  {
   "cell_type": "code",
   "execution_count": 10,
   "metadata": {},
   "outputs": [
    {
     "data": {
      "text/html": [
       "<div>\n",
       "<style scoped>\n",
       "    .dataframe tbody tr th:only-of-type {\n",
       "        vertical-align: middle;\n",
       "    }\n",
       "\n",
       "    .dataframe tbody tr th {\n",
       "        vertical-align: top;\n",
       "    }\n",
       "\n",
       "    .dataframe thead th {\n",
       "        text-align: right;\n",
       "    }\n",
       "</style>\n",
       "<table border=\"1\" class=\"dataframe\">\n",
       "  <thead>\n",
       "    <tr style=\"text-align: right;\">\n",
       "      <th></th>\n",
       "      <th>pickups</th>\n",
       "      <th>spd</th>\n",
       "      <th>vsb</th>\n",
       "      <th>temp</th>\n",
       "      <th>dewp</th>\n",
       "      <th>slp</th>\n",
       "      <th>pcp01</th>\n",
       "      <th>pcp06</th>\n",
       "      <th>pcp24</th>\n",
       "      <th>sd</th>\n",
       "    </tr>\n",
       "    <tr>\n",
       "      <th>pickup_dt</th>\n",
       "      <th></th>\n",
       "      <th></th>\n",
       "      <th></th>\n",
       "      <th></th>\n",
       "      <th></th>\n",
       "      <th></th>\n",
       "      <th></th>\n",
       "      <th></th>\n",
       "      <th></th>\n",
       "      <th></th>\n",
       "    </tr>\n",
       "  </thead>\n",
       "  <tbody>\n",
       "    <tr>\n",
       "      <th>2015-01-01</th>\n",
       "      <td>395.905797</td>\n",
       "      <td>6.086957</td>\n",
       "      <td>10.000000</td>\n",
       "      <td>31.043478</td>\n",
       "      <td>7.869565</td>\n",
       "      <td>1019.795652</td>\n",
       "      <td>0.000000</td>\n",
       "      <td>0.000000</td>\n",
       "      <td>0.000000</td>\n",
       "      <td>0.0</td>\n",
       "    </tr>\n",
       "    <tr>\n",
       "      <th>2015-01-02</th>\n",
       "      <td>275.326389</td>\n",
       "      <td>7.541667</td>\n",
       "      <td>10.000000</td>\n",
       "      <td>38.625000</td>\n",
       "      <td>15.958333</td>\n",
       "      <td>1019.954167</td>\n",
       "      <td>0.000000</td>\n",
       "      <td>0.000000</td>\n",
       "      <td>0.000000</td>\n",
       "      <td>0.0</td>\n",
       "    </tr>\n",
       "    <tr>\n",
       "      <th>2015-01-03</th>\n",
       "      <td>411.201389</td>\n",
       "      <td>6.202083</td>\n",
       "      <td>7.836250</td>\n",
       "      <td>35.687500</td>\n",
       "      <td>21.806250</td>\n",
       "      <td>1032.033333</td>\n",
       "      <td>0.010660</td>\n",
       "      <td>0.086528</td>\n",
       "      <td>0.438694</td>\n",
       "      <td>0.0</td>\n",
       "    </tr>\n",
       "    <tr>\n",
       "      <th>2015-01-04</th>\n",
       "      <td>300.069444</td>\n",
       "      <td>5.638194</td>\n",
       "      <td>5.760417</td>\n",
       "      <td>45.420833</td>\n",
       "      <td>42.431250</td>\n",
       "      <td>1014.087500</td>\n",
       "      <td>0.021132</td>\n",
       "      <td>0.143389</td>\n",
       "      <td>0.421389</td>\n",
       "      <td>0.0</td>\n",
       "    </tr>\n",
       "    <tr>\n",
       "      <th>2015-01-05</th>\n",
       "      <td>302.583333</td>\n",
       "      <td>10.868056</td>\n",
       "      <td>9.729167</td>\n",
       "      <td>41.972222</td>\n",
       "      <td>21.125000</td>\n",
       "      <td>1014.566667</td>\n",
       "      <td>0.002708</td>\n",
       "      <td>0.019167</td>\n",
       "      <td>0.053750</td>\n",
       "      <td>0.0</td>\n",
       "    </tr>\n",
       "  </tbody>\n",
       "</table>\n",
       "</div>"
      ],
      "text/plain": [
       "               pickups        spd        vsb       temp       dewp  \\\n",
       "pickup_dt                                                            \n",
       "2015-01-01  395.905797   6.086957  10.000000  31.043478   7.869565   \n",
       "2015-01-02  275.326389   7.541667  10.000000  38.625000  15.958333   \n",
       "2015-01-03  411.201389   6.202083   7.836250  35.687500  21.806250   \n",
       "2015-01-04  300.069444   5.638194   5.760417  45.420833  42.431250   \n",
       "2015-01-05  302.583333  10.868056   9.729167  41.972222  21.125000   \n",
       "\n",
       "                    slp     pcp01     pcp06     pcp24   sd  \n",
       "pickup_dt                                                   \n",
       "2015-01-01  1019.795652  0.000000  0.000000  0.000000  0.0  \n",
       "2015-01-02  1019.954167  0.000000  0.000000  0.000000  0.0  \n",
       "2015-01-03  1032.033333  0.010660  0.086528  0.438694  0.0  \n",
       "2015-01-04  1014.087500  0.021132  0.143389  0.421389  0.0  \n",
       "2015-01-05  1014.566667  0.002708  0.019167  0.053750  0.0  "
      ]
     },
     "execution_count": 10,
     "metadata": {},
     "output_type": "execute_result"
    }
   ],
   "source": [
    "uberday = uber.resample('D', on='pickup_dt').mean()\n",
    "uberday.head(5)"
   ]
  },
  {
   "cell_type": "markdown",
   "metadata": {},
   "source": [
    "Here, we'll add variables for hour, day, week, and month in order to make grouping easier in later analysis."
   ]
  },
  {
   "cell_type": "code",
   "execution_count": 11,
   "metadata": {},
   "outputs": [
    {
     "data": {
      "text/html": [
       "<div>\n",
       "<style scoped>\n",
       "    .dataframe tbody tr th:only-of-type {\n",
       "        vertical-align: middle;\n",
       "    }\n",
       "\n",
       "    .dataframe tbody tr th {\n",
       "        vertical-align: top;\n",
       "    }\n",
       "\n",
       "    .dataframe thead th {\n",
       "        text-align: right;\n",
       "    }\n",
       "</style>\n",
       "<table border=\"1\" class=\"dataframe\">\n",
       "  <thead>\n",
       "    <tr style=\"text-align: right;\">\n",
       "      <th></th>\n",
       "      <th>pickup_dt</th>\n",
       "      <th>borough</th>\n",
       "      <th>pickups</th>\n",
       "      <th>spd</th>\n",
       "      <th>vsb</th>\n",
       "      <th>temp</th>\n",
       "      <th>dewp</th>\n",
       "      <th>slp</th>\n",
       "      <th>pcp01</th>\n",
       "      <th>pcp06</th>\n",
       "      <th>pcp24</th>\n",
       "      <th>sd</th>\n",
       "      <th>hday</th>\n",
       "      <th>hour</th>\n",
       "      <th>day</th>\n",
       "      <th>week</th>\n",
       "      <th>month</th>\n",
       "    </tr>\n",
       "  </thead>\n",
       "  <tbody>\n",
       "    <tr>\n",
       "      <th>0</th>\n",
       "      <td>2015-01-01 01:00:00</td>\n",
       "      <td>Bronx</td>\n",
       "      <td>152</td>\n",
       "      <td>5.0</td>\n",
       "      <td>10.0</td>\n",
       "      <td>30.0</td>\n",
       "      <td>7.0</td>\n",
       "      <td>1023.5</td>\n",
       "      <td>0.0</td>\n",
       "      <td>0.0</td>\n",
       "      <td>0.0</td>\n",
       "      <td>0.0</td>\n",
       "      <td>Y</td>\n",
       "      <td>1</td>\n",
       "      <td>1</td>\n",
       "      <td>1</td>\n",
       "      <td>1</td>\n",
       "    </tr>\n",
       "    <tr>\n",
       "      <th>1</th>\n",
       "      <td>2015-01-01 01:00:00</td>\n",
       "      <td>Brooklyn</td>\n",
       "      <td>1519</td>\n",
       "      <td>5.0</td>\n",
       "      <td>10.0</td>\n",
       "      <td>30.0</td>\n",
       "      <td>7.0</td>\n",
       "      <td>1023.5</td>\n",
       "      <td>0.0</td>\n",
       "      <td>0.0</td>\n",
       "      <td>0.0</td>\n",
       "      <td>0.0</td>\n",
       "      <td>Y</td>\n",
       "      <td>1</td>\n",
       "      <td>1</td>\n",
       "      <td>1</td>\n",
       "      <td>1</td>\n",
       "    </tr>\n",
       "    <tr>\n",
       "      <th>2</th>\n",
       "      <td>2015-01-01 01:00:00</td>\n",
       "      <td>EWR</td>\n",
       "      <td>0</td>\n",
       "      <td>5.0</td>\n",
       "      <td>10.0</td>\n",
       "      <td>30.0</td>\n",
       "      <td>7.0</td>\n",
       "      <td>1023.5</td>\n",
       "      <td>0.0</td>\n",
       "      <td>0.0</td>\n",
       "      <td>0.0</td>\n",
       "      <td>0.0</td>\n",
       "      <td>Y</td>\n",
       "      <td>1</td>\n",
       "      <td>1</td>\n",
       "      <td>1</td>\n",
       "      <td>1</td>\n",
       "    </tr>\n",
       "    <tr>\n",
       "      <th>3</th>\n",
       "      <td>2015-01-01 01:00:00</td>\n",
       "      <td>Manhattan</td>\n",
       "      <td>5258</td>\n",
       "      <td>5.0</td>\n",
       "      <td>10.0</td>\n",
       "      <td>30.0</td>\n",
       "      <td>7.0</td>\n",
       "      <td>1023.5</td>\n",
       "      <td>0.0</td>\n",
       "      <td>0.0</td>\n",
       "      <td>0.0</td>\n",
       "      <td>0.0</td>\n",
       "      <td>Y</td>\n",
       "      <td>1</td>\n",
       "      <td>1</td>\n",
       "      <td>1</td>\n",
       "      <td>1</td>\n",
       "    </tr>\n",
       "    <tr>\n",
       "      <th>4</th>\n",
       "      <td>2015-01-01 01:00:00</td>\n",
       "      <td>Queens</td>\n",
       "      <td>405</td>\n",
       "      <td>5.0</td>\n",
       "      <td>10.0</td>\n",
       "      <td>30.0</td>\n",
       "      <td>7.0</td>\n",
       "      <td>1023.5</td>\n",
       "      <td>0.0</td>\n",
       "      <td>0.0</td>\n",
       "      <td>0.0</td>\n",
       "      <td>0.0</td>\n",
       "      <td>Y</td>\n",
       "      <td>1</td>\n",
       "      <td>1</td>\n",
       "      <td>1</td>\n",
       "      <td>1</td>\n",
       "    </tr>\n",
       "  </tbody>\n",
       "</table>\n",
       "</div>"
      ],
      "text/plain": [
       "            pickup_dt    borough  pickups  spd   vsb  temp  dewp     slp  \\\n",
       "0 2015-01-01 01:00:00      Bronx      152  5.0  10.0  30.0   7.0  1023.5   \n",
       "1 2015-01-01 01:00:00   Brooklyn     1519  5.0  10.0  30.0   7.0  1023.5   \n",
       "2 2015-01-01 01:00:00        EWR        0  5.0  10.0  30.0   7.0  1023.5   \n",
       "3 2015-01-01 01:00:00  Manhattan     5258  5.0  10.0  30.0   7.0  1023.5   \n",
       "4 2015-01-01 01:00:00     Queens      405  5.0  10.0  30.0   7.0  1023.5   \n",
       "\n",
       "   pcp01  pcp06  pcp24   sd hday  hour  day  week  month  \n",
       "0    0.0    0.0    0.0  0.0    Y     1    1     1      1  \n",
       "1    0.0    0.0    0.0  0.0    Y     1    1     1      1  \n",
       "2    0.0    0.0    0.0  0.0    Y     1    1     1      1  \n",
       "3    0.0    0.0    0.0  0.0    Y     1    1     1      1  \n",
       "4    0.0    0.0    0.0  0.0    Y     1    1     1      1  "
      ]
     },
     "execution_count": 11,
     "metadata": {},
     "output_type": "execute_result"
    }
   ],
   "source": [
    "uber['hour'] = uber['pickup_dt'].dt.hour\n",
    "uber['day'] = uber['pickup_dt'].dt.day\n",
    "uber['week'] = uber['pickup_dt'].dt.week\n",
    "uber['month'] = uber['pickup_dt'].dt.month\n",
    "uber.head()"
   ]
  },
  {
   "cell_type": "markdown",
   "metadata": {},
   "source": [
    "### Summary Statistics"
   ]
  },
  {
   "cell_type": "code",
   "execution_count": 12,
   "metadata": {},
   "outputs": [
    {
     "data": {
      "text/html": [
       "<div>\n",
       "<style scoped>\n",
       "    .dataframe tbody tr th:only-of-type {\n",
       "        vertical-align: middle;\n",
       "    }\n",
       "\n",
       "    .dataframe tbody tr th {\n",
       "        vertical-align: top;\n",
       "    }\n",
       "\n",
       "    .dataframe thead th {\n",
       "        text-align: right;\n",
       "    }\n",
       "</style>\n",
       "<table border=\"1\" class=\"dataframe\">\n",
       "  <thead>\n",
       "    <tr style=\"text-align: right;\">\n",
       "      <th></th>\n",
       "      <th>pickups</th>\n",
       "      <th>spd</th>\n",
       "      <th>vsb</th>\n",
       "      <th>temp</th>\n",
       "      <th>dewp</th>\n",
       "      <th>slp</th>\n",
       "      <th>pcp01</th>\n",
       "      <th>pcp06</th>\n",
       "      <th>pcp24</th>\n",
       "      <th>sd</th>\n",
       "      <th>hour</th>\n",
       "      <th>day</th>\n",
       "      <th>week</th>\n",
       "      <th>month</th>\n",
       "    </tr>\n",
       "  </thead>\n",
       "  <tbody>\n",
       "    <tr>\n",
       "      <th>count</th>\n",
       "      <td>26058.000000</td>\n",
       "      <td>26058.000000</td>\n",
       "      <td>26058.000000</td>\n",
       "      <td>26058.000000</td>\n",
       "      <td>26058.000000</td>\n",
       "      <td>26058.000000</td>\n",
       "      <td>26058.000000</td>\n",
       "      <td>26058.000000</td>\n",
       "      <td>26058.000000</td>\n",
       "      <td>26058.000000</td>\n",
       "      <td>26058.000000</td>\n",
       "      <td>26058.000000</td>\n",
       "      <td>26058.000000</td>\n",
       "      <td>26058.000000</td>\n",
       "    </tr>\n",
       "    <tr>\n",
       "      <th>mean</th>\n",
       "      <td>547.222082</td>\n",
       "      <td>6.000039</td>\n",
       "      <td>8.820027</td>\n",
       "      <td>47.489005</td>\n",
       "      <td>30.654434</td>\n",
       "      <td>1017.812802</td>\n",
       "      <td>0.003821</td>\n",
       "      <td>0.026074</td>\n",
       "      <td>0.091036</td>\n",
       "      <td>2.536496</td>\n",
       "      <td>11.502648</td>\n",
       "      <td>15.605572</td>\n",
       "      <td>13.859314</td>\n",
       "      <td>3.508865</td>\n",
       "    </tr>\n",
       "    <tr>\n",
       "      <th>std</th>\n",
       "      <td>1037.307748</td>\n",
       "      <td>3.706328</td>\n",
       "      <td>2.442995</td>\n",
       "      <td>19.772156</td>\n",
       "      <td>21.241521</td>\n",
       "      <td>7.783471</td>\n",
       "      <td>0.018834</td>\n",
       "      <td>0.092916</td>\n",
       "      <td>0.220435</td>\n",
       "      <td>4.520550</td>\n",
       "      <td>6.920916</td>\n",
       "      <td>8.733684</td>\n",
       "      <td>7.472266</td>\n",
       "      <td>1.709766</td>\n",
       "    </tr>\n",
       "    <tr>\n",
       "      <th>min</th>\n",
       "      <td>0.000000</td>\n",
       "      <td>0.000000</td>\n",
       "      <td>0.000000</td>\n",
       "      <td>2.000000</td>\n",
       "      <td>-16.000000</td>\n",
       "      <td>991.400000</td>\n",
       "      <td>0.000000</td>\n",
       "      <td>0.000000</td>\n",
       "      <td>0.000000</td>\n",
       "      <td>0.000000</td>\n",
       "      <td>0.000000</td>\n",
       "      <td>1.000000</td>\n",
       "      <td>1.000000</td>\n",
       "      <td>1.000000</td>\n",
       "    </tr>\n",
       "    <tr>\n",
       "      <th>25%</th>\n",
       "      <td>1.000000</td>\n",
       "      <td>3.000000</td>\n",
       "      <td>9.100000</td>\n",
       "      <td>31.500000</td>\n",
       "      <td>14.000000</td>\n",
       "      <td>1012.400000</td>\n",
       "      <td>0.000000</td>\n",
       "      <td>0.000000</td>\n",
       "      <td>0.000000</td>\n",
       "      <td>0.000000</td>\n",
       "      <td>6.000000</td>\n",
       "      <td>8.000000</td>\n",
       "      <td>7.000000</td>\n",
       "      <td>2.000000</td>\n",
       "    </tr>\n",
       "    <tr>\n",
       "      <th>50%</th>\n",
       "      <td>86.000000</td>\n",
       "      <td>6.000000</td>\n",
       "      <td>10.000000</td>\n",
       "      <td>45.000000</td>\n",
       "      <td>30.000000</td>\n",
       "      <td>1018.200000</td>\n",
       "      <td>0.000000</td>\n",
       "      <td>0.000000</td>\n",
       "      <td>0.000000</td>\n",
       "      <td>0.000000</td>\n",
       "      <td>12.000000</td>\n",
       "      <td>16.000000</td>\n",
       "      <td>14.000000</td>\n",
       "      <td>4.000000</td>\n",
       "    </tr>\n",
       "    <tr>\n",
       "      <th>75%</th>\n",
       "      <td>506.000000</td>\n",
       "      <td>8.000000</td>\n",
       "      <td>10.000000</td>\n",
       "      <td>64.000000</td>\n",
       "      <td>49.000000</td>\n",
       "      <td>1023.000000</td>\n",
       "      <td>0.000000</td>\n",
       "      <td>0.000000</td>\n",
       "      <td>0.051667</td>\n",
       "      <td>3.166667</td>\n",
       "      <td>18.000000</td>\n",
       "      <td>23.000000</td>\n",
       "      <td>20.000000</td>\n",
       "      <td>5.000000</td>\n",
       "    </tr>\n",
       "    <tr>\n",
       "      <th>max</th>\n",
       "      <td>7883.000000</td>\n",
       "      <td>21.000000</td>\n",
       "      <td>10.000000</td>\n",
       "      <td>89.000000</td>\n",
       "      <td>73.000000</td>\n",
       "      <td>1043.400000</td>\n",
       "      <td>0.280000</td>\n",
       "      <td>1.240000</td>\n",
       "      <td>2.100000</td>\n",
       "      <td>19.000000</td>\n",
       "      <td>23.000000</td>\n",
       "      <td>31.000000</td>\n",
       "      <td>27.000000</td>\n",
       "      <td>6.000000</td>\n",
       "    </tr>\n",
       "  </tbody>\n",
       "</table>\n",
       "</div>"
      ],
      "text/plain": [
       "            pickups           spd           vsb          temp          dewp  \\\n",
       "count  26058.000000  26058.000000  26058.000000  26058.000000  26058.000000   \n",
       "mean     547.222082      6.000039      8.820027     47.489005     30.654434   \n",
       "std     1037.307748      3.706328      2.442995     19.772156     21.241521   \n",
       "min        0.000000      0.000000      0.000000      2.000000    -16.000000   \n",
       "25%        1.000000      3.000000      9.100000     31.500000     14.000000   \n",
       "50%       86.000000      6.000000     10.000000     45.000000     30.000000   \n",
       "75%      506.000000      8.000000     10.000000     64.000000     49.000000   \n",
       "max     7883.000000     21.000000     10.000000     89.000000     73.000000   \n",
       "\n",
       "                slp         pcp01         pcp06         pcp24            sd  \\\n",
       "count  26058.000000  26058.000000  26058.000000  26058.000000  26058.000000   \n",
       "mean    1017.812802      0.003821      0.026074      0.091036      2.536496   \n",
       "std        7.783471      0.018834      0.092916      0.220435      4.520550   \n",
       "min      991.400000      0.000000      0.000000      0.000000      0.000000   \n",
       "25%     1012.400000      0.000000      0.000000      0.000000      0.000000   \n",
       "50%     1018.200000      0.000000      0.000000      0.000000      0.000000   \n",
       "75%     1023.000000      0.000000      0.000000      0.051667      3.166667   \n",
       "max     1043.400000      0.280000      1.240000      2.100000     19.000000   \n",
       "\n",
       "               hour           day          week         month  \n",
       "count  26058.000000  26058.000000  26058.000000  26058.000000  \n",
       "mean      11.502648     15.605572     13.859314      3.508865  \n",
       "std        6.920916      8.733684      7.472266      1.709766  \n",
       "min        0.000000      1.000000      1.000000      1.000000  \n",
       "25%        6.000000      8.000000      7.000000      2.000000  \n",
       "50%       12.000000     16.000000     14.000000      4.000000  \n",
       "75%       18.000000     23.000000     20.000000      5.000000  \n",
       "max       23.000000     31.000000     27.000000      6.000000  "
      ]
     },
     "execution_count": 12,
     "metadata": {},
     "output_type": "execute_result"
    }
   ],
   "source": [
    "# Summary Statistics of all Variables\n",
    "uber.describe()"
   ]
  },
  {
   "cell_type": "code",
   "execution_count": 13,
   "metadata": {},
   "outputs": [
    {
     "data": {
      "text/html": [
       "<div>\n",
       "<style scoped>\n",
       "    .dataframe tbody tr th:only-of-type {\n",
       "        vertical-align: middle;\n",
       "    }\n",
       "\n",
       "    .dataframe tbody tr th {\n",
       "        vertical-align: top;\n",
       "    }\n",
       "\n",
       "    .dataframe thead th {\n",
       "        text-align: right;\n",
       "    }\n",
       "</style>\n",
       "<table border=\"1\" class=\"dataframe\">\n",
       "  <thead>\n",
       "    <tr style=\"text-align: right;\">\n",
       "      <th></th>\n",
       "      <th>count</th>\n",
       "      <th>mean</th>\n",
       "      <th>std</th>\n",
       "      <th>min</th>\n",
       "      <th>25%</th>\n",
       "      <th>50%</th>\n",
       "      <th>75%</th>\n",
       "      <th>max</th>\n",
       "    </tr>\n",
       "    <tr>\n",
       "      <th>borough</th>\n",
       "      <th></th>\n",
       "      <th></th>\n",
       "      <th></th>\n",
       "      <th></th>\n",
       "      <th></th>\n",
       "      <th></th>\n",
       "      <th></th>\n",
       "      <th></th>\n",
       "    </tr>\n",
       "  </thead>\n",
       "  <tbody>\n",
       "    <tr>\n",
       "      <th>Bronx</th>\n",
       "      <td>4343.0</td>\n",
       "      <td>50.667050</td>\n",
       "      <td>31.029223</td>\n",
       "      <td>0.0</td>\n",
       "      <td>29.0</td>\n",
       "      <td>46.0</td>\n",
       "      <td>66.0</td>\n",
       "      <td>262.0</td>\n",
       "    </tr>\n",
       "    <tr>\n",
       "      <th>Brooklyn</th>\n",
       "      <td>4343.0</td>\n",
       "      <td>534.431269</td>\n",
       "      <td>294.810182</td>\n",
       "      <td>0.0</td>\n",
       "      <td>331.5</td>\n",
       "      <td>493.0</td>\n",
       "      <td>675.0</td>\n",
       "      <td>2009.0</td>\n",
       "    </tr>\n",
       "    <tr>\n",
       "      <th>EWR</th>\n",
       "      <td>4343.0</td>\n",
       "      <td>0.024177</td>\n",
       "      <td>0.160937</td>\n",
       "      <td>0.0</td>\n",
       "      <td>0.0</td>\n",
       "      <td>0.0</td>\n",
       "      <td>0.0</td>\n",
       "      <td>2.0</td>\n",
       "    </tr>\n",
       "    <tr>\n",
       "      <th>Manhattan</th>\n",
       "      <td>4343.0</td>\n",
       "      <td>2387.253281</td>\n",
       "      <td>1434.724668</td>\n",
       "      <td>0.0</td>\n",
       "      <td>1223.5</td>\n",
       "      <td>2269.0</td>\n",
       "      <td>3293.5</td>\n",
       "      <td>7883.0</td>\n",
       "    </tr>\n",
       "    <tr>\n",
       "      <th>Queens</th>\n",
       "      <td>4343.0</td>\n",
       "      <td>309.354824</td>\n",
       "      <td>154.368300</td>\n",
       "      <td>0.0</td>\n",
       "      <td>196.0</td>\n",
       "      <td>308.0</td>\n",
       "      <td>410.0</td>\n",
       "      <td>831.0</td>\n",
       "    </tr>\n",
       "    <tr>\n",
       "      <th>Staten Island</th>\n",
       "      <td>4343.0</td>\n",
       "      <td>1.601888</td>\n",
       "      <td>1.640451</td>\n",
       "      <td>0.0</td>\n",
       "      <td>0.0</td>\n",
       "      <td>1.0</td>\n",
       "      <td>2.0</td>\n",
       "      <td>13.0</td>\n",
       "    </tr>\n",
       "  </tbody>\n",
       "</table>\n",
       "</div>"
      ],
      "text/plain": [
       "                count         mean          std  min     25%     50%     75%  \\\n",
       "borough                                                                        \n",
       "Bronx          4343.0    50.667050    31.029223  0.0    29.0    46.0    66.0   \n",
       "Brooklyn       4343.0   534.431269   294.810182  0.0   331.5   493.0   675.0   \n",
       "EWR            4343.0     0.024177     0.160937  0.0     0.0     0.0     0.0   \n",
       "Manhattan      4343.0  2387.253281  1434.724668  0.0  1223.5  2269.0  3293.5   \n",
       "Queens         4343.0   309.354824   154.368300  0.0   196.0   308.0   410.0   \n",
       "Staten Island  4343.0     1.601888     1.640451  0.0     0.0     1.0     2.0   \n",
       "\n",
       "                  max  \n",
       "borough                \n",
       "Bronx           262.0  \n",
       "Brooklyn       2009.0  \n",
       "EWR               2.0  \n",
       "Manhattan      7883.0  \n",
       "Queens          831.0  \n",
       "Staten Island    13.0  "
      ]
     },
     "execution_count": 13,
     "metadata": {},
     "output_type": "execute_result"
    }
   ],
   "source": [
    "# Summary Statistics of pickups by borough\n",
    "uber.groupby('borough').pickups.describe()"
   ]
  },
  {
   "cell_type": "code",
   "execution_count": 14,
   "metadata": {},
   "outputs": [
    {
     "name": "stdout",
     "output_type": "stream",
     "text": [
      "hday\n",
      "N    549.555236\n",
      "Y    488.879242\n",
      "Name: pickups, dtype: float64\n"
     ]
    }
   ],
   "source": [
    "# Pickups by holiday\n",
    "print(uber.groupby(['hday']).pickups.mean())"
   ]
  },
  {
   "cell_type": "code",
   "execution_count": 15,
   "metadata": {},
   "outputs": [
    {
     "name": "stdout",
     "output_type": "stream",
     "text": [
      "borough        hday\n",
      "Bronx          N         50.771073\n",
      "               Y         48.065868\n",
      "Brooklyn       N        534.727969\n",
      "               Y        527.011976\n",
      "EWR            N          0.023467\n",
      "               Y          0.041916\n",
      "Manhattan      N       2401.302921\n",
      "               Y       2035.928144\n",
      "Queens         N        308.899904\n",
      "               Y        320.730539\n",
      "Staten Island  N          1.606082\n",
      "               Y          1.497006\n",
      "Name: pickups, dtype: float64\n"
     ]
    }
   ],
   "source": [
    "# Pickups by borough and holiday\n",
    "print(uber.groupby(['borough', 'hday']).pickups.mean())"
   ]
  },
  {
   "cell_type": "markdown",
   "metadata": {},
   "source": [
    "### Distributional Shapes of Variables"
   ]
  },
  {
   "cell_type": "code",
   "execution_count": 16,
   "metadata": {},
   "outputs": [
    {
     "data": {
      "image/png": "[encoded data removed]",
      "text/plain": [
       "<matplotlib.figure.Figure at 0x1d53e588ba8>"
      ]
     },
     "metadata": {},
     "output_type": "display_data"
    }
   ],
   "source": [
    "sns.distplot(uber.pickups)\n",
    "plt.title(\"Distribution of pickups Variable\")\n",
    "plt.xlabel(\"pickups\")\n",
    "plt.show()"
   ]
  },
  {
   "cell_type": "code",
   "execution_count": 17,
   "metadata": {},
   "outputs": [
    {
     "data": {
      "image/png": "[encoded data removed]",
      "text/plain": [
       "<matplotlib.figure.Figure at 0x1d53e624ef0>"
      ]
     },
     "metadata": {},
     "output_type": "display_data"
    }
   ],
   "source": [
    "sns.distplot(uber.temp)\n",
    "plt.title(\"Distribution of temp Variable\")\n",
    "plt.xlabel(\"temp\")\n",
    "plt.show()"
   ]
  },
  {
   "cell_type": "code",
   "execution_count": 18,
   "metadata": {},
   "outputs": [
    {
     "data": {
      "image/png": "[encoded data removed]",
      "text/plain": [
       "<matplotlib.figure.Figure at 0x1d53ed9b4e0>"
      ]
     },
     "metadata": {},
     "output_type": "display_data"
    }
   ],
   "source": [
    "sns.distplot(uber.spd)\n",
    "plt.title(\"Distribution of windspeed Variable\")\n",
    "plt.xlabel(\"windspeed\")\n",
    "plt.show()"
   ]
  },
  {
   "cell_type": "code",
   "execution_count": 19,
   "metadata": {},
   "outputs": [
    {
     "data": {
      "image/png": "[encoded data removed]",
      "text/plain": [
       "<matplotlib.figure.Figure at 0x1d53eeffdd8>"
      ]
     },
     "metadata": {},
     "output_type": "display_data"
    }
   ],
   "source": [
    "sns.distplot(uber.pcp24)\n",
    "plt.title(\"Distribution of pcp24 Variable\")\n",
    "plt.xlabel(\"pcp24\")\n",
    "plt.show()"
   ]
  },
  {
   "cell_type": "code",
   "execution_count": 20,
   "metadata": {},
   "outputs": [
    {
     "data": {
      "image/png": "[encoded data removed]",
      "text/plain": [
       "<matplotlib.figure.Figure at 0x1d53ef1d048>"
      ]
     },
     "metadata": {},
     "output_type": "display_data"
    }
   ],
   "source": [
    "sns.distplot(uber.sd)\n",
    "plt.title(\"Distribution of snow Variable\")\n",
    "plt.xlabel(\"snow\")\n",
    "plt.show()"
   ]
  },
  {
   "cell_type": "code",
   "execution_count": 21,
   "metadata": {},
   "outputs": [
    {
     "data": {
      "image/png": "[encoded data removed]",
      "text/plain": [
       "<matplotlib.figure.Figure at 0x1d53f093da0>"
      ]
     },
     "metadata": {},
     "output_type": "display_data"
    }
   ],
   "source": [
    "sns.distplot(uber.vsb)\n",
    "plt.title(\"Distribution of visibility Variable\")\n",
    "plt.xlabel(\"visbilitiy\")\n",
    "plt.show()"
   ]
  },
  {
   "cell_type": "code",
   "execution_count": 22,
   "metadata": {},
   "outputs": [
    {
     "data": {
      "image/png": "[encoded data removed]",
      "text/plain": [
       "<matplotlib.figure.Figure at 0x1d53f07e6a0>"
      ]
     },
     "metadata": {},
     "output_type": "display_data"
    }
   ],
   "source": [
    "plt.plot(uber.borough[:6,], uber.groupby('borough').pickups.mean())\n",
    "plt.title(\"Mean pickups by Borough\")\n",
    "plt.xlabel(\"Borough\")\n",
    "plt.ylabel(\"Pickups\")\n",
    "plt.show()"
   ]
  },
  {
   "cell_type": "markdown",
   "metadata": {},
   "source": [
    "### Unusual Data or Outliers"
   ]
  },
  {
   "cell_type": "code",
   "execution_count": 23,
   "metadata": {},
   "outputs": [
    {
     "data": {
      "image/png": "[encoded data removed]",
      "text/plain": [
       "<matplotlib.figure.Figure at 0x1d53f1a21d0>"
      ]
     },
     "metadata": {},
     "output_type": "display_data"
    }
   ],
   "source": [
    "sns.boxplot(uber.temp, orient = 'v')\n",
    "plt.title(\"Boxplot of temp Variable\")\n",
    "plt.ylabel(\"temp\")\n",
    "plt.show()"
   ]
  },
  {
   "cell_type": "markdown",
   "metadata": {},
   "source": [
    "The temperature variable is pretty evenly distibuted without outliers."
   ]
  },
  {
   "cell_type": "code",
   "execution_count": 24,
   "metadata": {},
   "outputs": [
    {
     "data": {
      "image/png": "[encoded data removed]",
      "text/plain": [
       "<matplotlib.figure.Figure at 0x1d53f1eda20>"
      ]
     },
     "metadata": {},
     "output_type": "display_data"
    }
   ],
   "source": [
    "sns.boxplot(uber.spd, orient = 'v')\n",
    "plt.title(\"Boxplot of windspeed Variable\")\n",
    "plt.ylabel(\"windspeed\")\n",
    "plt.show()"
   ]
  },
  {
   "cell_type": "markdown",
   "metadata": {},
   "source": [
    "There are some outliers for windspeed greater than 15 miles per hour."
   ]
  },
  {
   "cell_type": "code",
   "execution_count": 25,
   "metadata": {},
   "outputs": [
    {
     "data": {
      "image/png": "[encoded data removed]",
      "text/plain": [
       "<matplotlib.figure.Figure at 0x1d53f24afd0>"
      ]
     },
     "metadata": {},
     "output_type": "display_data"
    }
   ],
   "source": [
    "sns.boxplot(uber.pcp24, orient = 'v')\n",
    "plt.title(\"Boxplot of pcp24 Variable\")\n",
    "plt.ylabel(\"pcp24\")\n",
    "plt.show()"
   ]
  },
  {
   "cell_type": "markdown",
   "metadata": {},
   "source": [
    "All 24-hour liquid precipitation above about 0.2 inches is considered an outlier."
   ]
  },
  {
   "cell_type": "code",
   "execution_count": 26,
   "metadata": {},
   "outputs": [
    {
     "data": {
      "image/png": "[encoded data removed]",
      "text/plain": [
       "<matplotlib.figure.Figure at 0x1d53f2eaa90>"
      ]
     },
     "metadata": {},
     "output_type": "display_data"
    }
   ],
   "source": [
    "sns.boxplot(uber.sd, orient = 'v')\n",
    "plt.title(\"Boxplot of snow Variable\")\n",
    "plt.ylabel(\"snow\")\n",
    "plt.show()"
   ]
  },
  {
   "cell_type": "markdown",
   "metadata": {},
   "source": [
    "The snow depths greater than 7.5 inches are outliers."
   ]
  },
  {
   "cell_type": "code",
   "execution_count": 27,
   "metadata": {},
   "outputs": [
    {
     "data": {
      "image/png": "[encoded data removed]",
      "text/plain": [
       "<matplotlib.figure.Figure at 0x1d53f2a5978>"
      ]
     },
     "metadata": {},
     "output_type": "display_data"
    }
   ],
   "source": [
    "sns.boxplot(uber.vsb, orient = 'v')\n",
    "plt.title(\"Boxplot of visibility Variable\")\n",
    "plt.ylabel(\"visibility\")\n",
    "plt.show()"
   ]
  },
  {
   "cell_type": "markdown",
   "metadata": {},
   "source": [
    "Visibility less than 8 miles is an outlier."
   ]
  },
  {
   "cell_type": "markdown",
   "metadata": {},
   "source": [
    "### Barplots"
   ]
  },
  {
   "cell_type": "code",
   "execution_count": 28,
   "metadata": {},
   "outputs": [
    {
     "data": {
      "image/png": "[encoded data removed]",
      "text/plain": [
       "<matplotlib.figure.Figure at 0x1d53e57b390>"
      ]
     },
     "metadata": {},
     "output_type": "display_data"
    }
   ],
   "source": [
    "sns.barplot(uber.borough, uber.pickups)\n",
    "plt.title(\"Barplot of Pickups by Borough\")\n",
    "plt.show()"
   ]
  },
  {
   "cell_type": "markdown",
   "metadata": {},
   "source": [
    "The vast majority of pickups are in Manhattan."
   ]
  },
  {
   "cell_type": "code",
   "execution_count": 29,
   "metadata": {},
   "outputs": [
    {
     "data": {
      "image/png": "[encoded data removed]",
      "text/plain": [
       "<matplotlib.figure.Figure at 0x1d53e577898>"
      ]
     },
     "metadata": {},
     "output_type": "display_data"
    }
   ],
   "source": [
    "sns.barplot(uber.hday, uber.pickups)\n",
    "plt.title(\"Barplot of Pickups by Holiday\")\n",
    "plt.show()"
   ]
  },
  {
   "cell_type": "markdown",
   "metadata": {},
   "source": [
    "This shows incidation that there are less pickups on Holidays."
   ]
  },
  {
   "cell_type": "markdown",
   "metadata": {},
   "source": [
    "### Line Plots by DateTime Groups"
   ]
  },
  {
   "cell_type": "code",
   "execution_count": 30,
   "metadata": {},
   "outputs": [
    {
     "data": {
      "image/png": "[encoded data removed]",
      "text/plain": [
       "<matplotlib.figure.Figure at 0x1d53e566a20>"
      ]
     },
     "metadata": {},
     "output_type": "display_data"
    }
   ],
   "source": [
    "plt.plot(uber.groupby('hour').pickups.sum())\n",
    "plt.title(\"Total pickups by Hour of the Day\")\n",
    "plt.xlabel(\"Hour of the Day (24:00)\")\n",
    "plt.ylabel(\"Total Pickups\")\n",
    "plt.show()"
   ]
  },
  {
   "cell_type": "markdown",
   "metadata": {},
   "source": [
    "Logically, significantly less people take Ubers at 3-6 am since most people are sleeping. We believe the spike at around 9 pm is due to commuters and the even larger spike at 8-12 pm is people going out at night than rely on Uber as a designated driver among other reasons."
   ]
  },
  {
   "cell_type": "code",
   "execution_count": 31,
   "metadata": {},
   "outputs": [
    {
     "data": {
      "image/png": "[encoded data removed]",
      "text/plain": [
       "<matplotlib.figure.Figure at 0x1d53e6316d8>"
      ]
     },
     "metadata": {},
     "output_type": "display_data"
    }
   ],
   "source": [
    "plt.plot(uber.groupby('day').pickups.sum())\n",
    "plt.title(\"Total pickups by day of the month\")\n",
    "plt.xlabel(\"Day of the month\")\n",
    "plt.ylabel(\"Total Pickups\")\n",
    "plt.show()"
   ]
  },
  {
   "cell_type": "markdown",
   "metadata": {},
   "source": [
    "The drop off at the end of the month is because half of the months out of the year do not have a 31st day."
   ]
  },
  {
   "cell_type": "code",
   "execution_count": 32,
   "metadata": {},
   "outputs": [
    {
     "data": {
      "image/png": "[encoded data removed]",
      "text/plain": [
       "<matplotlib.figure.Figure at 0x1d53e645940>"
      ]
     },
     "metadata": {},
     "output_type": "display_data"
    }
   ],
   "source": [
    "plt.plot(uber.groupby('week').pickups.sum())\n",
    "plt.title(\"Total pickups by Week\")\n",
    "plt.xlabel(\"Week\")\n",
    "plt.ylabel(\"Total Pickups\")\n",
    "plt.show()"
   ]
  },
  {
   "cell_type": "code",
   "execution_count": 33,
   "metadata": {},
   "outputs": [
    {
     "data": {
      "image/png": "[encoded data removed]",
      "text/plain": [
       "<matplotlib.figure.Figure at 0x1d53f19d358>"
      ]
     },
     "metadata": {},
     "output_type": "display_data"
    }
   ],
   "source": [
    "plt.plot(uber.groupby('month').pickups.sum())\n",
    "plt.title(\"Total pickups by Month\")\n",
    "plt.xlabel(\"Month\")\n",
    "plt.ylabel(\"Total Pickups\")\n",
    "plt.show()"
   ]
  },
  {
   "cell_type": "markdown",
   "metadata": {},
   "source": [
    "The increase in number of pickups by month does not have a clear reason. We believe this may be because of an increase in Uber's popularity during 2015 due to Goldman Sach's financing of $1.6 billion for Uber."
   ]
  },
  {
   "cell_type": "markdown",
   "metadata": {},
   "source": [
    "### Scatter Plots"
   ]
  },
  {
   "cell_type": "code",
   "execution_count": 34,
   "metadata": {},
   "outputs": [
    {
     "data": {
      "image/png": "[encoded data removed]",
      "text/plain": [
       "<matplotlib.figure.Figure at 0x1d53ee1e1d0>"
      ]
     },
     "metadata": {},
     "output_type": "display_data"
    }
   ],
   "source": [
    "plt.scatter(uberday.sd, uberday.pickups)\n",
    "plt.title(\"Scatterplot of Pickups by Snow Grouped by Day\")\n",
    "plt.ylabel(\"pickups\")\n",
    "plt.xlabel(\"snow\")\n",
    "plt.show()"
   ]
  },
  {
   "cell_type": "markdown",
   "metadata": {},
   "source": [
    "There does not seem to be a trend between snowfall and pickups."
   ]
  },
  {
   "cell_type": "code",
   "execution_count": 35,
   "metadata": {},
   "outputs": [
    {
     "data": {
      "image/png": "[encoded data removed]",
      "text/plain": [
       "<matplotlib.figure.Figure at 0x1d53f075080>"
      ]
     },
     "metadata": {},
     "output_type": "display_data"
    }
   ],
   "source": [
    "plt.scatter(uber.pcp24, uber.pickups)\n",
    "plt.title(\"Scatterplot of Pickups by PCP24 Grouped by Day\")\n",
    "plt.ylabel(\"pickups\")\n",
    "plt.xlabel(\"pcp24\")\n",
    "plt.show()"
   ]
  },
  {
   "cell_type": "markdown",
   "metadata": {},
   "source": [
    "There seems to be less pickups when there is more rain (pcp24 - 24-hour liquid precipitation). It is possible that when it is raining outside, people prefer to stay home and therefore leads to less pickups."
   ]
  },
  {
   "cell_type": "code",
   "execution_count": 36,
   "metadata": {},
   "outputs": [
    {
     "data": {
      "image/png": "[encoded data removed]",
      "text/plain": [
       "<matplotlib.figure.Figure at 0x1d53f05e4e0>"
      ]
     },
     "metadata": {},
     "output_type": "display_data"
    }
   ],
   "source": [
    "plt.scatter(uberday.temp, uberday.pickups)\n",
    "plt.title(\"Scatterplot of Pickups by Temp Grouped by Day\")\n",
    "plt.ylabel(\"pickups\")\n",
    "plt.xlabel(\"temp\")\n",
    "plt.show()"
   ]
  },
  {
   "cell_type": "markdown",
   "metadata": {},
   "source": [
    "There is a slight curve between pickups and temperature with more pickups during the lower and higher temperatures. Our theory was that higher temperatures (better weather) would result in less pickups because people wouldn't mind walking. However, the possible increase in pickups due to popularity occurs during the summer, meaning that if warmer temperatures truly led to less pickups, it would be masked in this scatter plot due to the increase in popularity that happened in the summer."
   ]
  },
  {
   "cell_type": "code",
   "execution_count": 37,
   "metadata": {},
   "outputs": [
    {
     "data": {
      "image/png": "[encoded data removed]",
      "text/plain": [
       "<matplotlib.figure.Figure at 0x1d53f0f9828>"
      ]
     },
     "metadata": {},
     "output_type": "display_data"
    }
   ],
   "source": [
    "plt.plot(uberday.sd +400)\n",
    "plt.plot(uberday.pcp24+400, color = 'red')\n",
    "plt.plot(uberday.temp+400, color = 'green')\n",
    "plt.plot(uberday.pickups, color = 'orange')\n",
    "plt.title(\"Snow, PCP24, Temp, and Pickups by Time\")\n",
    "plt.legend()\n",
    "plt.show()"
   ]
  },
  {
   "cell_type": "markdown",
   "metadata": {},
   "source": [
    "# Data Modeling"
   ]
  },
  {
   "cell_type": "code",
   "execution_count": 38,
   "metadata": {},
   "outputs": [],
   "source": [
    "from sklearn import linear_model\n",
    "from sklearn.model_selection import train_test_split\n",
    "from datetime import time\n",
    "from sklearn.ensemble import RandomForestRegressor"
   ]
  },
  {
   "cell_type": "markdown",
   "metadata": {},
   "source": [
    "Based on the exploratory analysis, some of the relationships of interest that showed variance include time and precipitation. "
   ]
  },
  {
   "cell_type": "code",
   "execution_count": 39,
   "metadata": {},
   "outputs": [],
   "source": [
    "pd.to_datetime(uber[\"pickup_dt\"].astype(str).str[11:13], format=\"%H\")\n",
    "uber[\"date\"]= pd.to_datetime(uber[\"pickup_dt\"].astype(str).str[:10], format=\"%Y-%m-%d\")\n",
    "uber[\"time\"]= uber[\"pickup_dt\"].astype(str).str[11:13]\n",
    "uber.time= uber.time.astype(int)"
   ]
  },
  {
   "cell_type": "code",
   "execution_count": 41,
   "metadata": {},
   "outputs": [
    {
     "data": {
      "text/plain": [
       "0.00046816207084232625"
      ]
     },
     "execution_count": 41,
     "metadata": {},
     "output_type": "execute_result"
    }
   ],
   "source": [
    "x= uber.pcp24\n",
    "y= uber.pickups\n",
    "\n",
    "x_train, x_test, y_train, y_test = train_test_split(x, y, test_size=0.3, random_state=1234)\n",
    "x_train = np.array(x_train).reshape(-1, 1)\n",
    "y_train = np.array(y_train).reshape(-1, 1)\n",
    "x_test = np.array(x_test).reshape(-1, 1)\n",
    "y_test = np.array(x_test).reshape(-1, 1)\n",
    "reg_pcp24 = linear_model.LinearRegression()\n",
    "reg_pcp24.fit(x_train,y_train )\n",
    "y_pred = reg_pcp24.predict(x_train)\n",
    "reg_pcp24.score(x_train, y_train)"
   ]
  },
  {
   "cell_type": "markdown",
   "metadata": {},
   "source": [
    "There does not appeat to be in a linear relationship between the rain in the last 24 hours and the number of pikcups in the area."
   ]
  },
  {
   "cell_type": "markdown",
   "metadata": {},
   "source": [
    "Can we predict pickups from time and rain?"
   ]
  },
  {
   "cell_type": "code",
   "execution_count": 42,
   "metadata": {},
   "outputs": [
    {
     "data": {
      "text/plain": [
       "0.03600261020892259"
      ]
     },
     "execution_count": 42,
     "metadata": {},
     "output_type": "execute_result"
    }
   ],
   "source": [
    "x=pd.DataFrame({\"time\": uber.time, \"rain\":uber.pcp24})\n",
    "\n",
    "x_train, x_test, y_train, y_test = train_test_split(x, y, test_size=0.3, random_state=1234)\n",
    "reg3 = linear_model.LinearRegression() \n",
    "reg3.fit(x_train, y_train)\n",
    "y_pred = reg3.predict(x_train)\n",
    "reg3.score(x_train, y_train)"
   ]
  },
  {
   "cell_type": "markdown",
   "metadata": {},
   "source": [
    "There also no linear relationship between the both time and rain."
   ]
  },
  {
   "cell_type": "markdown",
   "metadata": {},
   "source": [
    "Random forest model using random sampling of predictors from full data set to predict pickups:"
   ]
  },
  {
   "cell_type": "markdown",
   "metadata": {},
   "source": [
    "First, we need to transform all the variables to numeric so that the random forest algorithm can use them."
   ]
  },
  {
   "cell_type": "code",
   "execution_count": 43,
   "metadata": {},
   "outputs": [],
   "source": [
    "import copy\n",
    "uber_rf = copy.deepcopy(uber)"
   ]
  },
  {
   "cell_type": "markdown",
   "metadata": {},
   "source": [
    "We will use only numerical predictors for The Random Forest model. "
   ]
  },
  {
   "cell_type": "code",
   "execution_count": 44,
   "metadata": {},
   "outputs": [],
   "source": [
    "uber_rf = uber.drop(['pickup_dt','date', 'borough', 'hday'], axis=1)"
   ]
  },
  {
   "cell_type": "code",
   "execution_count": 45,
   "metadata": {
    "scrolled": true
   },
   "outputs": [],
   "source": [
    "x = uber_rf\n",
    "x_train, x_test, y_train, y_test = train_test_split(x, y, test_size=0.3, random_state=1234)\n",
    "rf = RandomForestRegressor(n_estimators = 1000, random_state = 42)\n",
    "\n",
    "rf.fit(x_train,y_train)\n",
    "predictions = rf.predict(x_test)"
   ]
  },
  {
   "cell_type": "code",
   "execution_count": 46,
   "metadata": {},
   "outputs": [],
   "source": [
    "errors = abs(predictions - y_test)"
   ]
  },
  {
   "cell_type": "code",
   "execution_count": 47,
   "metadata": {},
   "outputs": [
    {
     "data": {
      "text/plain": [
       "0.31389268355077876"
      ]
     },
     "execution_count": 47,
     "metadata": {},
     "output_type": "execute_result"
    }
   ],
   "source": [
    "np.mean(errors)"
   ]
  },
  {
   "cell_type": "markdown",
   "metadata": {},
   "source": [
    "The average different between the real value and prediction in the test set ~0.31.\n",
    "To find the accuracy of the predictions, we can make a linear regression from the predictions and the real test values."
   ]
  },
  {
   "cell_type": "code",
   "execution_count": 50,
   "metadata": {},
   "outputs": [
    {
     "data": {
      "text/plain": [
       "0.9999825640991098"
      ]
     },
     "execution_count": 50,
     "metadata": {},
     "output_type": "execute_result"
    }
   ],
   "source": [
    "reg_rf = linear_model.LinearRegression() \n",
    "\n",
    "predictions = predictions.reshape(-1, 1)\n",
    "y_test = y_test.reshape(-1, 1)\n",
    "\n",
    "reg_rf.fit(predictions, y_test)\n",
    "reg_rf.score(predictions, y_test)"
   ]
  },
  {
   "cell_type": "markdown",
   "metadata": {},
   "source": [
    "The random forest model predicts 99% of the test data correctly. This appears to be a very good model."
   ]
  },
  {
   "cell_type": "code",
   "execution_count": 52,
   "metadata": {},
   "outputs": [
    {
     "data": {
      "text/plain": [
       "Text(0,0.5,'Real Value')"
      ]
     },
     "execution_count": 52,
     "metadata": {},
     "output_type": "execute_result"
    },
    {
     "data": {
      "image/png": "[encoded data removed]",
      "text/plain": [
       "<matplotlib.figure.Figure at 0x1d540654828>"
      ]
     },
     "metadata": {},
     "output_type": "display_data"
    }
   ],
   "source": [
    "plt.scatter(predictions, y_test)\n",
    "plt.title(\"Random Forest Accuracy\")\n",
    "plt.xlabel(\"Predicted value\")\n",
    "plt.ylabel(\"Real Value\")"
   ]
  },
  {
   "cell_type": "markdown",
   "metadata": {},
   "source": [
    "As you can from the plot, The Random Forest model has a really high accuracy in predicting the the pickups in NYC."
   ]
  },
  {
   "cell_type": "markdown",
   "metadata": {},
   "source": [
    "# Conclusion"
   ]
  },
  {
   "cell_type": "markdown",
   "metadata": {},
   "source": [
    "After an Exploratory Analysis to discover some possible relationships and by running some linear regressions on the variables of interest, singularly or in a combination, it was evident there were no obvious linear relationships between these variables. This left us to use a more complex model. After moving on to machine learning techniques using the numerical preditors, the Random Forest model was a very good model for predicting the number of pickups in NYC based on the weather variables.\n"
   ]
  }
 ],
 "metadata": {
  "kernelspec": {
   "display_name": "Python 3",
   "language": "python",
   "name": "python3"
  },
  "language_info": {
   "codemirror_mode": {
    "name": "ipython",
    "version": 3
   },
   "file_extension": ".py",
   "mimetype": "text/x-python",
   "name": "python",
   "nbconvert_exporter": "python",
   "pygments_lexer": "ipython3",
   "version": "3.6.4"
  }
 },
 "nbformat": 4,
 "nbformat_minor": 2
}
